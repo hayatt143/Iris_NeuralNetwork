{
 "cells": [
  {
   "cell_type": "code",
   "execution_count": 1,
   "metadata": {},
   "outputs": [
    {
     "name": "stdout",
     "output_type": "stream",
     "text": [
      "Done importing..!\n"
     ]
    }
   ],
   "source": [
    "import os\n",
    "import sys\n",
    "import pandas as pd\n",
    "import numpy as np\n",
    "from sklearn import preprocessing\n",
    "from sklearn.model_selection import train_test_split\n",
    "from sklearn.preprocessing import StandardScaler\n",
    "print(\"Done importing..!\")"
   ]
  },
  {
   "cell_type": "code",
   "execution_count": 2,
   "metadata": {},
   "outputs": [
    {
     "name": "stdout",
     "output_type": "stream",
     "text": [
      "['.ipynb_checkpoints', 'database.sqlite', 'iris-species.zip', 'Iris.csv', 'Iris.ipynb', 'LICENSE', 'README.md']\n"
     ]
    }
   ],
   "source": [
    "files = os.listdir(\".\")\n",
    "print(files)"
   ]
  },
  {
   "cell_type": "code",
   "execution_count": 3,
   "metadata": {},
   "outputs": [
    {
     "name": "stdout",
     "output_type": "stream",
     "text": [
      "   Id  SepalLengthCm  SepalWidthCm  PetalLengthCm  PetalWidthCm      Species\n",
      "0   1            5.1           3.5            1.4           0.2  Iris-setosa\n",
      "1   2            4.9           3.0            1.4           0.2  Iris-setosa\n",
      "2   3            4.7           3.2            1.3           0.2  Iris-setosa\n",
      "3   4            4.6           3.1            1.5           0.2  Iris-setosa\n",
      "4   5            5.0           3.6            1.4           0.2  Iris-setosa\n",
      "====================================================================================================\n",
      "<class 'pandas.core.frame.DataFrame'>\n",
      "RangeIndex: 150 entries, 0 to 149\n",
      "Data columns (total 6 columns):\n",
      "Id               150 non-null int64\n",
      "SepalLengthCm    150 non-null float64\n",
      "SepalWidthCm     150 non-null float64\n",
      "PetalLengthCm    150 non-null float64\n",
      "PetalWidthCm     150 non-null float64\n",
      "Species          150 non-null object\n",
      "dtypes: float64(4), int64(1), object(1)\n",
      "memory usage: 6.5+ KB\n",
      "None\n"
     ]
    }
   ],
   "source": [
    "df = pd.read_csv(\"Iris.csv\")\n",
    "print(df.head(5))\n",
    "print(\"==\"*50)\n",
    "# print(df.describe())\n",
    "# print(df['Species'].unique())\n",
    "print(df.info())"
   ]
  },
  {
   "cell_type": "code",
   "execution_count": 5,
   "metadata": {},
   "outputs": [
    {
     "name": "stdout",
     "output_type": "stream",
     "text": [
      "Train Length: 120 Test Length: 30\n"
     ]
    }
   ],
   "source": [
    "xTrain, xTest, yTrain, yTest = train_test_split(df.drop(['Species','Id'],axis=1), df['Species'], test_size = 0.2, random_state = 5)\n",
    "print(\"Train Length: {} Test Length: {}\".format(len(xTrain),len(xTest)))"
   ]
  },
  {
   "cell_type": "code",
   "execution_count": 6,
   "metadata": {},
   "outputs": [],
   "source": [
    "# One hot encoding thee labels \n",
    "dum = pd.get_dummies(yTrain)"
   ]
  },
  {
   "cell_type": "code",
   "execution_count": 7,
   "metadata": {},
   "outputs": [],
   "source": [
    "trainFeatures = xTrain.values\n",
    "testFeatures = xTest.values\n",
    "trainLabel = pd.get_dummies(yTrain).values\n",
    "testLabel = pd.get_dummies(yTest).values"
   ]
  },
  {
   "cell_type": "code",
   "execution_count": 8,
   "metadata": {},
   "outputs": [],
   "source": [
    "# trainFeatures = StandardScaler().fit_transform(trainFeatures) # stabilize data\n",
    "# testFeatures = StandardScaler().fit_transform(testFeatures) # stabilize data"
   ]
  },
  {
   "cell_type": "code",
   "execution_count": 9,
   "metadata": {},
   "outputs": [],
   "source": [
    "softmax = lambda x: np.exp(x) / np.exp(x).sum(axis=1, keepdims=True)\n",
    "sigmoid = lambda x : 1 / (1+np.exp(-x))  # Replace 0 with your sigmoid calculation.\n",
    "sigmoid_derivative = lambda x: (1-sigmoid(x))\n",
    "loss_fn = lambda yhat, y:  -np.sum(y * np.log(yhat))"
   ]
  },
  {
   "cell_type": "code",
   "execution_count": 10,
   "metadata": {},
   "outputs": [],
   "source": [
    "class NeuralNetwork(object):\n",
    "    def __init__(self, input_nodes, hidden_nodes, output_nodes, learning_rate):\n",
    "        # Set number of nodes in input, hidden and output layers.\n",
    "        self.input_nodes = input_nodes\n",
    "        self.hidden_nodes = hidden_nodes\n",
    "        self.output_nodes = output_nodes\n",
    "        self.lr = learning_rate\n",
    "        self.init_weight()\n",
    "        \n",
    "        \n",
    "    def init_weight(self):\n",
    "        self.weight_ih = np.random.normal(0.0, self.input_nodes**-0.5, (self.input_nodes, self.hidden_nodes))\n",
    "        self.weight_ho = np.random.normal(0.0, self.hidden_nodes**-0.5, (self.hidden_nodes, self.output_nodes))\n",
    "        \n",
    "\n",
    "    def zero_grad(self):\n",
    "        self.dw_ih =  np.zeros(self.weight_ih.shape)\n",
    "        self.dw_ho = np.zeros(self.weight_ho.shape)\n",
    "        \n",
    "\n",
    "    def train(self, features, targets):\n",
    "        n_records = features.shape[0]\n",
    "        \n",
    "        self.zero_grad()\n",
    "        final_outputs, hidden_outputs = self.forward(features)\n",
    "        self.backward(final_outputs, hidden_outputs, features, targets)\n",
    "        self.update_weights(n_records)\n",
    "        \n",
    "        loss = loss_fn(final_outputs, targets)\n",
    "        return loss\n",
    "    \n",
    "    \n",
    "    def validate(self, features, targets):\n",
    "        final_outputs, hidden_outputs = self.forward(features)\n",
    "        loss = loss_fn(final_outputs, targets)\n",
    "        return loss\n",
    "\n",
    "        \n",
    "    def forward(self, X):\n",
    "        #### Implement the forward pass here ####\n",
    "        hidden_inputs = np.dot(X, self.weight_ih) # signals into hidden layer\n",
    "        hidden_outputs = sigmoid(hidden_inputs) # signals from hidden layer\n",
    "        \n",
    "        final_inputs = np.dot(hidden_outputs, self.weight_ho) # signals into final output layer\n",
    "        final_outputs = softmax(final_inputs) # signals from final output layer\n",
    "\n",
    "        return final_outputs, hidden_outputs\n",
    "\n",
    "\n",
    "    def backward(self, final_outputs, hidden_outputs, X, y):\n",
    "        # TODO: Output error - Replace this value with your calculations.\n",
    "        error = final_outputs - y # Output layer error is the difference between desired target and actual output.\n",
    "        error_term = np.dot(hidden_outputs.T, error)\n",
    "        \n",
    "        hidden_error = np.dot(error,  self.weight_ho.T) * hidden_outputs * (1 - hidden_outputs)\n",
    "        hidden_error_term = np.dot(X.T, hidden_error)\n",
    "        \n",
    "        \n",
    "        # Weight step (input to hidden)\n",
    "        self.dw_ih += hidden_error_term\n",
    "        self.dw_ho += error_term\n",
    "\n",
    "\n",
    "    def update_weights(self, n_records):\n",
    "        self.weight_ho -= self.lr * self.dw_ho / n_records # update hidden-to-output weights with gradient descent step\n",
    "        self.weight_ih -= self.lr * self.dw_ih / n_records # update input-to-hidden weights with gradient descent step\n",
    "    \n",
    "\n",
    "    def run(self, features):\n",
    "        #### Implement the forward pass here ####\n",
    "        final, hidden = self.forward(features)\n",
    "        return final"
   ]
  },
  {
   "cell_type": "code",
   "execution_count": 11,
   "metadata": {},
   "outputs": [],
   "source": [
    "input_node = trainFeatures.shape[1]\n",
    "hidden_node = 32\n",
    "output_node = trainLabel.shape[1]\n",
    "lr = 0.3\n",
    "network = NeuralNetwork(input_node, hidden_node, output_node, lr)\n"
   ]
  },
  {
   "cell_type": "code",
   "execution_count": 12,
   "metadata": {},
   "outputs": [
    {
     "name": "stdout",
     "output_type": "stream",
     "text": [
      "Iteration 9999 Progress: 100.0% ... Training loss: 4.124 ... Validation loss: 4.166"
     ]
    }
   ],
   "source": [
    "\n",
    "iterations = 10000\n",
    "for epoch in range(iterations):\n",
    "#     batch_train = np.random.choice(len(trainFeatures), size=120)\n",
    "#     X_train, y_train = trainFeatures[batch_train], trainLabel[batch_train]\n",
    "    \n",
    "    train_loss = network.train(trainFeatures, trainLabel)\n",
    "    valid_loss = network.validate(testFeatures, testLabel)\n",
    "    \n",
    "    sys.stdout.write(\"\\rIteration {} Progress: {:2.1f}\".format(epoch, 100 * epoch/float(iterations)) \\\n",
    "                     + \"% ... Training loss: \" + str(train_loss)[:5] \\\n",
    "                     + \" ... Validation loss: \" + str(valid_loss)[:5])\n",
    "    sys.stdout.flush()"
   ]
  },
  {
   "cell_type": "code",
   "execution_count": null,
   "metadata": {},
   "outputs": [],
   "source": []
  },
  {
   "cell_type": "code",
   "execution_count": null,
   "metadata": {},
   "outputs": [],
   "source": []
  }
 ],
 "metadata": {
  "kernelspec": {
   "display_name": "Python 3",
   "language": "python",
   "name": "python3"
  },
  "language_info": {
   "codemirror_mode": {
    "name": "ipython",
    "version": 3
   },
   "file_extension": ".py",
   "mimetype": "text/x-python",
   "name": "python",
   "nbconvert_exporter": "python",
   "pygments_lexer": "ipython3",
   "version": "3.7.2"
  }
 },
 "nbformat": 4,
 "nbformat_minor": 2
}
